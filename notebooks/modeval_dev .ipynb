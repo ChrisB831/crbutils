{
 "cells": [
  {
   "cell_type": "code",
   "execution_count": 1,
   "id": "9c7b5d99",
   "metadata": {},
   "outputs": [],
   "source": [
    "import pandas as pd\n",
    "from sklearn.ensemble import RandomForestRegressor\n",
    "from sklearn.impute import SimpleImputer"
   ]
  },
  {
   "cell_type": "code",
   "execution_count": 33,
   "id": "d443652f",
   "metadata": {},
   "outputs": [
    {
     "name": "stdout",
     "output_type": "stream",
     "text": [
      "(46427, 16)\n"
     ]
    }
   ],
   "source": [
    "def read_data():\n",
    "    '''Import data from the data directory\n",
    "\n",
    "    Inputs: None\n",
    "    Returns: df. Pandas dataframe\n",
    "    '''\n",
    "    return pd.read_csv(\"../data/dev_data_nyc_airbnb.csv\")\n",
    "\n",
    "df = read_data()\n",
    "print(df.shape)\n",
    "# print(df.head(5))    "
   ]
  },
  {
   "cell_type": "code",
   "execution_count": 38,
   "id": "66a020ae",
   "metadata": {},
   "outputs": [],
   "source": [
    "# Extract features and labels\n",
    "y = df['price']\n",
    "X = df[['minimum_nights','number_of_reviews','availability_365','reviews_per_month']]\n",
    "\n",
    "# Fill missings with mean\n",
    "my_imputer = SimpleImputer(strategy=\"mean\")\n",
    "X = my_imputer.fit_transform(X)\n",
    "\n",
    "# Initialise the model (Random forest)\n",
    "rf_model = RandomForestRegressor()\n",
    "\n",
    "# Train the model\n",
    "rf_model.fit(X,y)\n",
    "\n",
    "# Score the training data\n",
    "y_pred = rf_model.predict(X)"
   ]
  },
  {
   "cell_type": "code",
   "execution_count": 79,
   "id": "2ca0ab52",
   "metadata": {},
   "outputs": [],
   "source": [
    "from sklearn.metrics import r2_score, mean_absolute_error, mean_squared_error\n",
    "import numpy as np\n",
    "\n",
    "def perf_mets(\n",
    "        model_type = \"reg\", \n",
    "        y_train = None, y_train_p = None, \n",
    "        y_valid = None, y_valid_p = None,\n",
    "        y_test = None, y_test_p = None\n",
    "):\n",
    "    '''Get the performance metrics for a model\n",
    "    \n",
    "    input:\n",
    "        model_type: Str (default = \"reg\"). Type of model {reg, binary_class, \"multi_class\"}\n",
    "        y_train: Pandas series or numpy array (default = None). Traing data labels\n",
    "        y_train_p: Pandas series or numpy array (default = None). Training data predictions\n",
    "        y_valid: Pandas series or numpy array (default = None). Validation data label\n",
    "        y_valid_p: Pandas series or numpy array (default = None). Validation data predictions            \n",
    "        y_test: Pandas series or numpy array (default = None). Validation data labels\n",
    "        y_test_p: Pandas series or numpy array (default = None). Training data predictions\n",
    "        \n",
    "        In the case of a regressor the iterables represent probabilities\n",
    "        In the case of a classifier (binary or multileve) the iterables represent class memberships \n",
    "        \n",
    "    output:\n",
    "        None\n",
    "    '''\n",
    "    print(\"Headline perforemance metrics\")\n",
    "\n",
    "    if model_type == \"reg\":        \n",
    "        print(\"Model R2\")\n",
    "        if y_train is not None and y_train_p is not None: \n",
    "            print(f\"\\tTrain:\\t\\t{r2_score(y_train, y_train_p):.4f}\")\n",
    "        if y_valid is not None and y_valid_p is not None: \n",
    "            print(f\"\\tValidation:\\t{r2_score(y_valid, y_valid_p):.4f}\")\n",
    "        if y_test is not None and y_test_p is not None: \n",
    "            print(f\"\\tTest:\\t\\t{r2_score(y_test, y_test_p):.4f}\")\n",
    "            \n",
    "        print(\"MAE\")\n",
    "        if y_train is not None and y_train_p is not None: \n",
    "            print(f\"\\tTrain:\\t\\t{mean_absolute_error(y_train, y_train_p):.4f}\")\n",
    "        if y_valid is not None and y_valid_p is not None: \n",
    "            print(f\"\\tValidation:\\t{mean_absolute_error(y_valid, y_valid_p):.4f}\")\n",
    "        if y_test is not None and y_test_p is not None: \n",
    "            print(f\"\\tTest:\\t\\t{mean_absolute_error(y_test, y_test_p):.4f}\")\n",
    "            \n",
    "        print(\"MSE\")\n",
    "        if y_train is not None and y_train_p is not None: \n",
    "            print(f\"\\tTrain:\\t\\t{mean_squared_error(y_train, y_train_p):.4f}\")\n",
    "        if y_valid is not None and y_valid_p is not None: \n",
    "            print(f\"\\tValidation:\\t{mean_squared_error(y_valid, y_valid_p):.4f}\")\n",
    "        if y_test is not None and y_test_p is not None: \n",
    "            print(f\"\\tTest:\\t\\t{mean_squared_error(y_test, y_test_p):.4f}\")\n",
    "        \n",
    "        print(\"RMSE\")\n",
    "        if y_train is not None and y_train_p is not None: \n",
    "            print(f\"\\tTrain:\\t\\t{np.sqrt(mean_squared_error(y_train, y_train_p)):.4f}\")\n",
    "        if y_valid is not None and y_valid_p is not None: \n",
    "            print(f\"\\tValidation:\\t{np.sqrt(mean_squared_error(y_valid, y_valid_p)):.4f}\")\n",
    "        if y_test is not None and y_test_p is not None: \n",
    "            print(f\"\\tTest:\\t\\t{np.sqrt(mean_squared_error(y_test, y_test_p)):.4f}\")\n",
    "            \n",
    "    \n",
    "    if model_type == \"binary_class\":\n",
    "        print(\"Binary classifier model\")\n",
    "        \n",
    "        \n",
    "from sklearn.metrics import accuracy_score\n",
    "from sklearn.metrics import precision_score\n",
    "from sklearn.metrics import recall_score\n",
    "from sklearn.metrics import f1_score\n",
    "\n",
    "train_accuracy = accuracy_score(y_train, y_train_pred_c)\n",
    "test_accuracy = accuracy_score(y_test, y_test_pred_c)\n",
    "train_precision = precision_score(y_train, y_train_pred_c)\n",
    "test_precision = precision_score(y_test, y_test_pred_c)\n",
    "train_recall = recall_score(y_train, y_train_pred_c)\n",
    "test_recall = recall_score(y_test, y_test_pred_c)\n",
    "train_f1 = f1_score(y_train, y_train_pred_c)\n",
    "test_f1 = f1_score(y_test, y_test_pred_c)\n",
    "\n",
    "    \n",
    "        \n",
    "\n",
    "    if model_type == \"multi_class\":\n",
    "        print(\"Multi level classifier model\")\n",
    "        \n",
    "y_train_pred = cross_val_predict(sgd_clf, X_train_scaled, y_train, cv=3)\n",
    "conf_mx = confusion_matrix(y_train, y_train_pred)\n",
    "conf_mx\n",
    "\n",
    "Get the overall Accuracy \n",
    "overall_accuracy = np.trace(conf_mx) / np.sum(conf_mx)\n",
    "\n",
    "Get the class level accuracy \n",
    "class_accuracy = np.diagonal(conf_mx) / conf_mx.sum(axis = 1))\n",
    "\n",
    "\n"
   ]
  },
  {
   "cell_type": "code",
   "execution_count": 80,
   "id": "aeabcdd7",
   "metadata": {},
   "outputs": [
    {
     "name": "stdout",
     "output_type": "stream",
     "text": [
      "Regression model\n",
      "Model R2\n",
      "\tTrain:\t\t0.6074\n",
      "MAE\n",
      "\tTrain:\t\t31.9457\n",
      "MSE\n",
      "\tTrain:\t\t2027.5826\n",
      "RMSE\n",
      "\tTrain:\t\t45.0287\n"
     ]
    }
   ],
   "source": [
    "perf_mets(\n",
    "    y_train = y, y_train_p = y_pred\n",
    ")"
   ]
  },
  {
   "cell_type": "code",
   "execution_count": 82,
   "id": "b6674eaf",
   "metadata": {},
   "outputs": [
    {
     "name": "stdout",
     "output_type": "stream",
     "text": [
      "Regression model\n",
      "Model R2\n",
      "\tTrain:\t\t0.6074\n",
      "\tValidation:\t0.6074\n",
      "\tTest:\t\t0.6074\n",
      "MAE\n",
      "\tTrain:\t\t31.9457\n",
      "\tValidation:\t31.9457\n",
      "\tTest:\t\t31.9457\n",
      "MSE\n",
      "\tTrain:\t\t2027.5826\n",
      "\tValidation:\t2027.5826\n",
      "\tTest:\t\t2027.5826\n",
      "RMSE\n",
      "\tTrain:\t\t45.0287\n",
      "\tValidation:\t45.0287\n",
      "\tTest:\t\t45.0287\n"
     ]
    }
   ],
   "source": [
    "perf_mets(\n",
    "    y_train = y, y_train_p = y_pred, \n",
    "    y_test = y, y_test_p = y_pred,\n",
    "    y_valid = y, y_valid_p = y_pred\n",
    ")"
   ]
  },
  {
   "cell_type": "code",
   "execution_count": null,
   "id": "f91837a5",
   "metadata": {},
   "outputs": [],
   "source": []
  }
 ],
 "metadata": {
  "kernelspec": {
   "display_name": "Python 3 (ipykernel)",
   "language": "python",
   "name": "python3"
  },
  "language_info": {
   "codemirror_mode": {
    "name": "ipython",
    "version": 3
   },
   "file_extension": ".py",
   "mimetype": "text/x-python",
   "name": "python",
   "nbconvert_exporter": "python",
   "pygments_lexer": "ipython3",
   "version": "3.9.13"
  }
 },
 "nbformat": 4,
 "nbformat_minor": 5
}
