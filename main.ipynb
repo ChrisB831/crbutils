{
 "cells": [
  {
   "cell_type": "code",
   "execution_count": 3,
   "id": "a5347d35-02ca-4a7e-b91b-32bc9bc20862",
   "metadata": {
    "tags": []
   },
   "outputs": [],
   "source": [
    "from src.crbutils.io import replace_colname_spaces\n",
    "import pandas as pd"
   ]
  },
  {
   "cell_type": "code",
   "execution_count": 4,
   "id": "5857234d-1331-44b1-8f35-eea0975762f5",
   "metadata": {},
   "outputs": [],
   "source": [
    "tmp = pd.DataFrame()\n",
    "tmp[\"var 1\"] = [1,2,3,4,5]\n",
    "tmp[\"var 2\"] = [1,2,3,4,5]"
   ]
  },
  {
   "cell_type": "code",
   "execution_count": 5,
   "id": "98bae52b-8a51-4f90-b30d-02bd4d9f75d5",
   "metadata": {
    "tags": []
   },
   "outputs": [
    {
     "name": "stdout",
     "output_type": "stream",
     "text": [
      "   var 1  var 2\n",
      "0      1      1\n",
      "1      2      2\n",
      "2      3      3\n",
      "3      4      4\n",
      "4      5      5\n"
     ]
    }
   ],
   "source": [
    "print(tmp)"
   ]
  },
  {
   "cell_type": "code",
   "execution_count": 7,
   "id": "84a63735-dead-46a7-b597-22c6aa7f41d0",
   "metadata": {
    "tags": []
   },
   "outputs": [],
   "source": [
    "tmp = replace_colname_spaces(tmp)"
   ]
  },
  {
   "cell_type": "code",
   "execution_count": 8,
   "id": "fe2edb87-b684-4226-9ec0-f8c9808c3576",
   "metadata": {
    "tags": []
   },
   "outputs": [
    {
     "name": "stdout",
     "output_type": "stream",
     "text": [
      "   var_1  var_2\n",
      "0      1      1\n",
      "1      2      2\n",
      "2      3      3\n",
      "3      4      4\n",
      "4      5      5\n"
     ]
    }
   ],
   "source": [
    "print(tmp)"
   ]
  },
  {
   "cell_type": "code",
   "execution_count": null,
   "id": "f0ede68e-d089-473e-9d60-f215b2c7e352",
   "metadata": {},
   "outputs": [],
   "source": []
  }
 ],
 "metadata": {
  "kernelspec": {
   "display_name": "Python 3 (ipykernel)",
   "language": "python",
   "name": "python3"
  },
  "language_info": {
   "codemirror_mode": {
    "name": "ipython",
    "version": 3
   },
   "file_extension": ".py",
   "mimetype": "text/x-python",
   "name": "python",
   "nbconvert_exporter": "python",
   "pygments_lexer": "ipython3",
   "version": "3.9.13"
  }
 },
 "nbformat": 4,
 "nbformat_minor": 5
}
